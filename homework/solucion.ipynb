{
 "cells": [
  {
   "cell_type": "markdown",
   "id": "48bbf325",
   "metadata": {},
   "source": [
    "\n",
    "## Paso 1: Leer el archivo\n",
    "Lines contiene una lista de strings con cada linea del archivo\n",
    "\n",
    "ej:\n",
    "\n",
    "['linea1', 'linea 2']"
   ]
  },
  {
   "cell_type": "code",
   "execution_count": 59,
   "id": "08a812ca",
   "metadata": {},
   "outputs": [
    {
     "name": "stdout",
     "output_type": "stream",
     "text": [
      "['Cluster  Cantidad de     Porcentaje de   Principales palabras clave     \\n', '         palabras clave  palabras clave\\n', '         \\n', '---------------------------------------------------------------------------------------------------------------------\\n', '   1     105             15,9 %          maximum power point tracking, fuzzy-logic based control, photo voltaic (pv), \\n', '                                         photo-voltaic  system,  differential   evolution   algorithm,   evolutionary\\n', '                                         algorithm, double-fed induction generator (dfig), ant  colony  optimisation, \\n', '                                         photo voltaic array, firefly algorithm, partial shade.\\n', '\\n', '   2     102             15,4 %          support vector machine,  long  short-term  memory,  back-propagation  neural\\n', '                                         network,  convolution  neural  network,  speed   wind   prediction,   energy\\n', '                                         consumption,   wind   power   forecasting,   extreme    learning    machine,\\n', '                                         recurrent-neural-network (rnn), radial basis function (rbf)  networks,  wind \\n', '                                         farm.\\n', '\\n', '   3     89              13,4 %          smart grid, wind power, reinforcement learning,  energy  management,  energy \\n', '                                         efficiency, solar energy, deep reinforcement learning, demand-response (dr),\\n', '                                         internet of things, energy harvester, q-learning.\\n', '\\n', '   4     60              9,1 %           wind   turbine,   fault    diagnosis,    biodiesel,    failure    detection,\\n', '                                         response-surface methodology, condition monitoring, load forecasting, energy\\n', '                                         consumption forecast,  anomalies  detection,  optimization-based  algorithm, \\n', '                                         supervisory control and data acquisition.\\n', '\\n', '   5     52              7,9 %           electric vehicle, lithium-ion batteries, state of charge, state  of  health,\\n', '                                         hybrid-electric vehicle, energy  management  strategies,  energy  management \\n', '                                         system, remaining useful life, battery management system, transfer learning, \\n', '                                         hybrid energy storage.\\n', '\\n', '   6     51              7,7 %           particle  swarm  optimization,  distribute  generation,  solar   irradiance,\\n', '                                         artificial  bee   colonies,   energy   storage   systems,   bat   algorithm,\\n', '                                         gravitational search algorithm, distributed  system,  multi-objective  swarm\\n', '                                         optimization  (mopso),  optimal  power-flow  (opf),  load-frequency  control\\n', '\\n', '   7     42              6,3 %           multi-objective   optimization,   energy   storage,    economic    dispatch,\\n', '                                         non-dominated  sorting  genetic  algorithm,   sensitive   analysis,   hybrid\\n', '                                         renewable energy source, plug-in electric vehicle, combined-heat and  power,\\n', '                                         multi-objective genetic algorithm, unit-commitment, dc-dc converters.\\n', '\\n', '   8     38              5,7 %           genetic algorithm, demand-side  management,  energy-saving,  hybrid  electric \\n', '                                         system (hes), wind turbine blade, data-driven modelling, simulated annealing, \\n', '                                         solar forecasting, geographic information system,  renewable  energy  system,\\n', '                                         cogeneration.\\n', '                                         \\n', '   9     35              5,3 %           anfis,   global   solar   irradiance,  solar  irradiance  forecast,   genetic\\n', '                                         programing,   islanding   detection,   expert  system,  distributed networks, \\n', '                                         evolutionary computation,  wavelet-based  neural  network,   root mean square \\n', '                                         errors, virtual power plant.\\n', '\\n', '   10    27              4,1 %           micro grid,  multi-agent  systems,  distributed  energy  resource,  batteries \\n', '                                         energy storage system, dc micro grid, pitch-control,  droop  control,  hybrid \\n', '                                         ac/dc microgrid, voltage regulation, superconducting magnetic energy storage, \\n', '                                         distributed-control.\\n', '\\n', '   11    22              3,3 %           hydrogen,  biochar,  biomass,  biogas,  microbial  fuel  cell,  gasification, \\n', '                                         biofuel, ethanol, engine performance, pyrolysis, anaerobic digester.\\n', '\\n', '   12    22              3,3 %           state of charge (soc) estimation,  radial  basis  function,  short-term  load\\n', '                                         forecasting,  computational  fluid  dynamics,  generalized-regression  neural\\n', '                                         network,  monte-carlo   simulation,   multiple   linear   regression,   power\\n', '                                         generation,   nonlinear   auto-regressive   exogenous   (narx)  model  neural\\n', '                                         networks, surrogate model, extreme gradient boosting.\\n', '\\n', '   13    17              2,6 %           pem   fuel   cell,   solid-oxide  fuel  cell,  deep-belief  networks,  energy\\n', '                                         optimisation, particles-size  distributions,  biomass  gasification,  exergy, \\n', '                                         battery    management,    hydrogen     production,     numeric    simulation, \\n', '                                         system-identification.\\n', '\\n']\n"
     ]
    }
   ],
   "source": [
    "import pandas as pd\n",
    "\n",
    "with open('../files/input/clusters_report.txt', 'r', encoding='utf-8') as f:\n",
    "    lines = f.readlines()\n",
    "\n",
    "print(lines)"
   ]
  },
  {
   "cell_type": "markdown",
   "id": "98827fea",
   "metadata": {},
   "source": [
    "## Paso 2: quitamos lineas vacias y el renglon de \n",
    "- Creamos lista vacia donde guardaremos las lineas utiles\n",
    "- Quitamos el salto de linea del final, pero dejamos espacios en blanco (utiles para reconocer el patron)\n",
    "- s.strip() devuelve la linea sin espacios, si está vacia '' es false, por tanto es decir si no true, continue, como si esta vacia continue\n",
    "- quitamos los espacio en blanco y metemos esa linea en un set. por si es la linea que tiene todos los guiones.\n"
   ]
  },
  {
   "cell_type": "code",
   "execution_count": 60,
   "id": "f6156da6",
   "metadata": {},
   "outputs": [
    {
     "data": {
      "text/plain": [
       "['Cluster  Cantidad de     Porcentaje de   Principales palabras clave     ',\n",
       " '         palabras clave  palabras clave',\n",
       " '   1     105             15,9 %          maximum power point tracking, fuzzy-logic based control, photo voltaic (pv), ',\n",
       " '                                         photo-voltaic  system,  differential   evolution   algorithm,   evolutionary',\n",
       " '                                         algorithm, double-fed induction generator (dfig), ant  colony  optimisation, ',\n",
       " '                                         photo voltaic array, firefly algorithm, partial shade.',\n",
       " '   2     102             15,4 %          support vector machine,  long  short-term  memory,  back-propagation  neural',\n",
       " '                                         network,  convolution  neural  network,  speed   wind   prediction,   energy',\n",
       " '                                         consumption,   wind   power   forecasting,   extreme    learning    machine,',\n",
       " '                                         recurrent-neural-network (rnn), radial basis function (rbf)  networks,  wind ',\n",
       " '                                         farm.',\n",
       " '   3     89              13,4 %          smart grid, wind power, reinforcement learning,  energy  management,  energy ',\n",
       " '                                         efficiency, solar energy, deep reinforcement learning, demand-response (dr),',\n",
       " '                                         internet of things, energy harvester, q-learning.',\n",
       " '   4     60              9,1 %           wind   turbine,   fault    diagnosis,    biodiesel,    failure    detection,',\n",
       " '                                         response-surface methodology, condition monitoring, load forecasting, energy',\n",
       " '                                         consumption forecast,  anomalies  detection,  optimization-based  algorithm, ',\n",
       " '                                         supervisory control and data acquisition.',\n",
       " '   5     52              7,9 %           electric vehicle, lithium-ion batteries, state of charge, state  of  health,',\n",
       " '                                         hybrid-electric vehicle, energy  management  strategies,  energy  management ',\n",
       " '                                         system, remaining useful life, battery management system, transfer learning, ',\n",
       " '                                         hybrid energy storage.',\n",
       " '   6     51              7,7 %           particle  swarm  optimization,  distribute  generation,  solar   irradiance,',\n",
       " '                                         artificial  bee   colonies,   energy   storage   systems,   bat   algorithm,',\n",
       " '                                         gravitational search algorithm, distributed  system,  multi-objective  swarm',\n",
       " '                                         optimization  (mopso),  optimal  power-flow  (opf),  load-frequency  control',\n",
       " '   7     42              6,3 %           multi-objective   optimization,   energy   storage,    economic    dispatch,',\n",
       " '                                         non-dominated  sorting  genetic  algorithm,   sensitive   analysis,   hybrid',\n",
       " '                                         renewable energy source, plug-in electric vehicle, combined-heat and  power,',\n",
       " '                                         multi-objective genetic algorithm, unit-commitment, dc-dc converters.',\n",
       " '   8     38              5,7 %           genetic algorithm, demand-side  management,  energy-saving,  hybrid  electric ',\n",
       " '                                         system (hes), wind turbine blade, data-driven modelling, simulated annealing, ',\n",
       " '                                         solar forecasting, geographic information system,  renewable  energy  system,',\n",
       " '                                         cogeneration.',\n",
       " '   9     35              5,3 %           anfis,   global   solar   irradiance,  solar  irradiance  forecast,   genetic',\n",
       " '                                         programing,   islanding   detection,   expert  system,  distributed networks, ',\n",
       " '                                         evolutionary computation,  wavelet-based  neural  network,   root mean square ',\n",
       " '                                         errors, virtual power plant.',\n",
       " '   10    27              4,1 %           micro grid,  multi-agent  systems,  distributed  energy  resource,  batteries ',\n",
       " '                                         energy storage system, dc micro grid, pitch-control,  droop  control,  hybrid ',\n",
       " '                                         ac/dc microgrid, voltage regulation, superconducting magnetic energy storage, ',\n",
       " '                                         distributed-control.',\n",
       " '   11    22              3,3 %           hydrogen,  biochar,  biomass,  biogas,  microbial  fuel  cell,  gasification, ',\n",
       " '                                         biofuel, ethanol, engine performance, pyrolysis, anaerobic digester.',\n",
       " '   12    22              3,3 %           state of charge (soc) estimation,  radial  basis  function,  short-term  load',\n",
       " '                                         forecasting,  computational  fluid  dynamics,  generalized-regression  neural',\n",
       " '                                         network,  monte-carlo   simulation,   multiple   linear   regression,   power',\n",
       " '                                         generation,   nonlinear   auto-regressive   exogenous   (narx)  model  neural',\n",
       " '                                         networks, surrogate model, extreme gradient boosting.',\n",
       " '   13    17              2,6 %           pem   fuel   cell,   solid-oxide  fuel  cell,  deep-belief  networks,  energy',\n",
       " '                                         optimisation, particles-size  distributions,  biomass  gasification,  exergy, ',\n",
       " '                                         battery    management,    hydrogen     production,     numeric    simulation, ',\n",
       " '                                         system-identification.']"
      ]
     },
     "execution_count": 60,
     "metadata": {},
     "output_type": "execute_result"
    }
   ],
   "source": [
    "clean = [] #1\n",
    "\n",
    "for ln in lines: \n",
    "    s = ln.rstrip('\\n') #2\n",
    "    if not s.strip():#3\n",
    "        continue\n",
    "    if set(s.strip()) == {'-'}:#4\n",
    "        continue\n",
    "    clean.append(s)\n",
    "\n",
    "clean"
   ]
  },
  {
   "cell_type": "markdown",
   "id": "423338c4",
   "metadata": {},
   "source": [
    "## Paso 3: detectar cabeceras con una expresion regular\n",
    "\n",
    "identificar cuales lineas de la lista son las cabeceras de cada cluster, tienen esta forma\n",
    "\n",
    "   1     105             15,9 %          maximum power point tracking, fuzzy...\n",
    "\n",
    "solo debemos reconocer tres numeros, y luego un texto con un patron de regex\n",
    "\n",
    "\n"
   ]
  },
  {
   "cell_type": "code",
   "execution_count": 61,
   "id": "c468d57e",
   "metadata": {},
   "outputs": [
    {
     "name": "stdout",
     "output_type": "stream",
     "text": [
      "Índices detectados: [2, 6, 11, 14, 18, 22, 26, 30, 34, 38, 42, 44, 49]\n",
      "Grupos: ('1', '105', '15,9', 'maximum power point tracking, fuzzy-logic based control, photo voltaic (pv), ')\n",
      "Grupos: ('2', '102', '15,4', 'support vector machine,  long  short-term  memory,  back-propagation  neural')\n",
      "Grupos: ('3', '89', '13,4', 'smart grid, wind power, reinforcement learning,  energy  management,  energy ')\n",
      "Grupos: ('4', '60', '9,1', 'wind   turbine,   fault    diagnosis,    biodiesel,    failure    detection,')\n",
      "Grupos: ('5', '52', '7,9', 'electric vehicle, lithium-ion batteries, state of charge, state  of  health,')\n",
      "Grupos: ('6', '51', '7,7', 'particle  swarm  optimization,  distribute  generation,  solar   irradiance,')\n",
      "Grupos: ('7', '42', '6,3', 'multi-objective   optimization,   energy   storage,    economic    dispatch,')\n",
      "Grupos: ('8', '38', '5,7', 'genetic algorithm, demand-side  management,  energy-saving,  hybrid  electric ')\n",
      "Grupos: ('9', '35', '5,3', 'anfis,   global   solar   irradiance,  solar  irradiance  forecast,   genetic')\n",
      "Grupos: ('10', '27', '4,1', 'micro grid,  multi-agent  systems,  distributed  energy  resource,  batteries ')\n",
      "Grupos: ('11', '22', '3,3', 'hydrogen,  biochar,  biomass,  biogas,  microbial  fuel  cell,  gasification, ')\n",
      "Grupos: ('12', '22', '3,3', 'state of charge (soc) estimation,  radial  basis  function,  short-term  load')\n",
      "Grupos: ('13', '17', '2,6', 'pem   fuel   cell,   solid-oxide  fuel  cell,  deep-belief  networks,  energy')\n"
     ]
    }
   ],
   "source": [
    "import re\n",
    "\n",
    "# Patrón para detectar cabeceras de clúster\n",
    "pat_header = re.compile(r'^\\s*(\\d+)\\s+(\\d+)\\s+([\\d.,]+)\\s*%?\\s+(.*)$')\n",
    "\n",
    "header_idx = []   # índices de líneas en 'clean' donde empieza cada clúster\n",
    "groups_seen = []  # para inspeccionar los grupos capturados\n",
    "\n",
    "for idx, ln in enumerate(clean):\n",
    "    m = pat_header.match(ln)\n",
    "    if m:\n",
    "        header_idx.append(idx)\n",
    "        groups_seen.append(m.groups())\n",
    "\n",
    "print(\"Índices detectados:\", header_idx)\n",
    "for g in groups_seen:\n",
    "    print(\"Grupos:\", g)\n",
    "\n",
    "\n"
   ]
  },
  {
   "cell_type": "code",
   "execution_count": 62,
   "id": "92e0d825",
   "metadata": {},
   "outputs": [
    {
     "name": "stdout",
     "output_type": "stream",
     "text": [
      "Cluster 1: cant=105, %=15,9\n",
      "maximum power point tracking, fuzzy-logic based control, photo voltaic (pv), photo-voltaic system, differential evolution algorithm, evolutionary algorithm, double-fed induction generator (dfig), ant colony optimisation,...\n",
      "\n",
      "Cluster 2: cant=102, %=15,4\n",
      "support vector machine, long short-term memory, back-propagation neural network, convolution neural network, speed wind prediction, energy consumption, wind power forecasting, extreme learning machine, recurrent-neural-n...\n",
      "\n",
      "{'cluster': '1', 'cantidad de palabras clave': '105', 'porcentaje de palabras clave': '15,9', 'principales palabras clave': 'maximum power point tracking, fuzzy-logic based control, photo voltaic (pv), photo-voltaic system, differential evolution algorithm, evolutionary algorithm, double-fed induction generator (dfig), ant colony optimisation, photo voltaic array, firefly algorithm, partial shade.'}\n",
      "{'cluster': '2', 'cantidad de palabras clave': '102', 'porcentaje de palabras clave': '15,4', 'principales palabras clave': 'support vector machine, long short-term memory, back-propagation neural network, convolution neural network, speed wind prediction, energy consumption, wind power forecasting, extreme learning machine, recurrent-neural-network (rnn), radial basis function (rbf) networks, wind farm.'}\n",
      "{'cluster': '3', 'cantidad de palabras clave': '89', 'porcentaje de palabras clave': '13,4', 'principales palabras clave': 'smart grid, wind power, reinforcement learning, energy management, energy efficiency, solar energy, deep reinforcement learning, demand-response (dr), internet of things, energy harvester, q-learning.'}\n",
      "{'cluster': '4', 'cantidad de palabras clave': '60', 'porcentaje de palabras clave': '9,1', 'principales palabras clave': 'wind turbine, fault diagnosis, biodiesel, failure detection, response-surface methodology, condition monitoring, load forecasting, energy consumption forecast, anomalies detection, optimization-based algorithm, supervisory control and data acquisition.'}\n",
      "{'cluster': '5', 'cantidad de palabras clave': '52', 'porcentaje de palabras clave': '7,9', 'principales palabras clave': 'electric vehicle, lithium-ion batteries, state of charge, state of health, hybrid-electric vehicle, energy management strategies, energy management system, remaining useful life, battery management system, transfer learning, hybrid energy storage.'}\n",
      "{'cluster': '6', 'cantidad de palabras clave': '51', 'porcentaje de palabras clave': '7,7', 'principales palabras clave': 'particle swarm optimization, distribute generation, solar irradiance, artificial bee colonies, energy storage systems, bat algorithm, gravitational search algorithm, distributed system, multi-objective swarm optimization (mopso), optimal power-flow (opf), load-frequency control'}\n",
      "{'cluster': '7', 'cantidad de palabras clave': '42', 'porcentaje de palabras clave': '6,3', 'principales palabras clave': 'multi-objective optimization, energy storage, economic dispatch, non-dominated sorting genetic algorithm, sensitive analysis, hybrid renewable energy source, plug-in electric vehicle, combined-heat and power, multi-objective genetic algorithm, unit-commitment, dc-dc converters.'}\n",
      "{'cluster': '8', 'cantidad de palabras clave': '38', 'porcentaje de palabras clave': '5,7', 'principales palabras clave': 'genetic algorithm, demand-side management, energy-saving, hybrid electric system (hes), wind turbine blade, data-driven modelling, simulated annealing, solar forecasting, geographic information system, renewable energy system, cogeneration.'}\n",
      "{'cluster': '9', 'cantidad de palabras clave': '35', 'porcentaje de palabras clave': '5,3', 'principales palabras clave': 'anfis, global solar irradiance, solar irradiance forecast, genetic programing, islanding detection, expert system, distributed networks, evolutionary computation, wavelet-based neural network, root mean square errors, virtual power plant.'}\n",
      "{'cluster': '10', 'cantidad de palabras clave': '27', 'porcentaje de palabras clave': '4,1', 'principales palabras clave': 'micro grid, multi-agent systems, distributed energy resource, batteries energy storage system, dc micro grid, pitch-control, droop control, hybrid ac/dc microgrid, voltage regulation, superconducting magnetic energy storage, distributed-control.'}\n",
      "{'cluster': '11', 'cantidad de palabras clave': '22', 'porcentaje de palabras clave': '3,3', 'principales palabras clave': 'hydrogen, biochar, biomass, biogas, microbial fuel cell, gasification, biofuel, ethanol, engine performance, pyrolysis, anaerobic digester.'}\n",
      "{'cluster': '12', 'cantidad de palabras clave': '22', 'porcentaje de palabras clave': '3,3', 'principales palabras clave': 'state of charge (soc) estimation, radial basis function, short-term load forecasting, computational fluid dynamics, generalized-regression neural network, monte-carlo simulation, multiple linear regression, power generation, nonlinear auto-regressive exogenous (narx) model neural networks, surrogate model, extreme gradient boosting.'}\n",
      "{'cluster': '13', 'cantidad de palabras clave': '17', 'porcentaje de palabras clave': '2,6', 'principales palabras clave': 'pem fuel cell, solid-oxide fuel cell, deep-belief networks, energy optimisation, particles-size distributions, biomass gasification, exergy, battery management, hydrogen production, numeric simulation, system-identification.'}\n"
     ]
    }
   ],
   "source": [
    "bloques = []  # aquí guardamos un dict por cabecera con los pedazos crudos\n",
    "for k, start in enumerate(header_idx):\n",
    "    end = header_idx[k+1] if k + 1 < len(header_idx) else len(clean)\n",
    "\n",
    "    m = pat_header.match(clean[start])\n",
    "    cluster_num, cantidad, porcentaje_txt, primer_tramo = m.groups()\n",
    "\n",
    "    # Continuaciones: todas las líneas entre start+1 y end\n",
    "    tails = [ln.strip() for ln in clean[start+1:end]]  # strip para quitar la mega indentación\n",
    "\n",
    "    # Unimos: primer tramo + continuaciones en un solo texto\n",
    "    palabras_raw = \" \".join([primer_tramo] + tails)\n",
    "\n",
    "    # Normalizamos espacios múltiples (por los saltos de línea y alineaciones)\n",
    "    palabras_norm = re.sub(r\"\\s+\", \" \", palabras_raw).strip()\n",
    "\n",
    "    bloques.append({\n",
    "        \"cluster\": cluster_num,\n",
    "        \"cantidad de palabras clave\": cantidad,\n",
    "        \"porcentaje de palabras clave\": porcentaje_txt,  # todavía como texto (con coma)\n",
    "        \"principales palabras clave\": palabras_norm     # texto ya unido y con espacios normalizados\n",
    "    })\n",
    "\n",
    "# 3) Inspecciona rápido los dos primeros bloques\n",
    "for b in bloques[:2]:\n",
    "    print(f\"Cluster {b['cluster']}: cant={b['cantidad de palabras clave']}, %={b['porcentaje de palabras clave']}\")\n",
    "    print(b[\"principales palabras clave\"][:220] + \"...\\n\")\n",
    "\n",
    "\n",
    "for i in bloques: print(i)"
   ]
  },
  {
   "cell_type": "markdown",
   "id": "96ef562b",
   "metadata": {},
   "source": [
    "# Ultimo paso: convertir a dataframe"
   ]
  },
  {
   "cell_type": "code",
   "execution_count": 69,
   "id": "68998ae9",
   "metadata": {},
   "outputs": [
    {
     "data": {
      "text/plain": [
       "(13, 7)"
      ]
     },
     "execution_count": 69,
     "metadata": {},
     "output_type": "execute_result"
    }
   ],
   "source": [
    "import pandas as pd\n",
    "\n",
    "\n",
    "df = pd.DataFrame(bloques)\n",
    "\n",
    "# Conversión de tipos\n",
    "df[\"cluster\"] = df[\"cluster\"].astype(int)\n",
    "df[\"cantidad_de_palabras_clave\"] = df[\"cantidad de palabras clave\"].astype(int)\n",
    "df[\"porcentaje_de_palabras_clave\"] = (\n",
    "    df[\"porcentaje de palabras clave\"].str.replace(\",\", \".\", regex=False).astype(float)\n",
    ")\n",
    "df[\"principales_palabras_clave\"] =  df[\"principales palabras clave\"]\n",
    "\n",
    "\n",
    "\n",
    "df.shape\n"
   ]
  }
 ],
 "metadata": {
  "kernelspec": {
   "display_name": ".venv",
   "language": "python",
   "name": "python3"
  },
  "language_info": {
   "codemirror_mode": {
    "name": "ipython",
    "version": 3
   },
   "file_extension": ".py",
   "mimetype": "text/x-python",
   "name": "python",
   "nbconvert_exporter": "python",
   "pygments_lexer": "ipython3",
   "version": "3.13.5"
  }
 },
 "nbformat": 4,
 "nbformat_minor": 5
}
